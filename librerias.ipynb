{
 "cells": [
  {
   "cell_type": "code",
   "execution_count": 1,
   "metadata": {},
   "outputs": [],
   "source": [
    "from selenium import webdriver\n",
    "from selenium.webdriver.support.ui import Select\n",
    "from selenium.webdriver.common.by import By\n",
    "import pandas as pd\n",
    "import time\n",
    "import itertools\n",
    "import numpy as np\n",
    "from datetime import datetime"
   ]
  },
  {
   "attachments": {},
   "cell_type": "markdown",
   "metadata": {},
   "source": [
    "## Prueba unitaria latam"
   ]
  },
  {
   "cell_type": "code",
   "execution_count": 2,
   "metadata": {},
   "outputs": [],
   "source": [
    "url=\"https://www.latamairlines.com/co/es/ofertas-vuelos?origin=CLO&inbound=null&outbound=2023-06-12T17%3A00%3A00.000Z&destination=BOG&adt=1&chd=0&inf=0&trip=OW&cabin=Economy&redemption=false&sort=RECOMMENDED\""
   ]
  },
  {
   "cell_type": "code",
   "execution_count": 3,
   "metadata": {},
   "outputs": [
    {
     "name": "stderr",
     "output_type": "stream",
     "text": [
      "C:\\Users\\DELL\\AppData\\Local\\Temp\\ipykernel_27168\\4208609945.py:6: DeprecationWarning: executable_path has been deprecated, please pass in a Service object\n",
      "  driver = webdriver.Chrome(\"C:/Scraping/chromedriver.exe\", chrome_options=option)\n",
      "C:\\Users\\DELL\\AppData\\Local\\Temp\\ipykernel_27168\\4208609945.py:6: DeprecationWarning: use options instead of chrome_options\n",
      "  driver = webdriver.Chrome(\"C:/Scraping/chromedriver.exe\", chrome_options=option)\n"
     ]
    }
   ],
   "source": [
    "option = webdriver.ChromeOptions()\n",
    "option.add_argument(\"--incognito\")\n",
    "#option.add_argument(\"--headless\")\n",
    "#we create the driver specifying the origin of chrome browser\n",
    "#option.add_experimental_option('excludeSwitches', ['enable-logging'])\n",
    "driver = webdriver.Chrome(\"C:/Scraping/chromedriver.exe\", chrome_options=option)\n",
    "driver.get(url)\n",
    "time.sleep(1)\n",
    "#Extra lo elementos del HTML todos los que coincidan\n"
   ]
  },
  {
   "cell_type": "code",
   "execution_count": 4,
   "metadata": {},
   "outputs": [],
   "source": [
    "Price=driver.find_elements(\"xpath\",'//span[@Class=\"display-currencystyle__CurrencyAmount-sc__sc-19mlo29-2 fMjBKP\"]')\n",
    "Hora=driver.find_elements(\"xpath\",'//span[@Class=\"card-flightstyle__TextHourFlight-sc__sc-16r5pdw-18 kKmcWo\"]')\n",
    "Tipo=driver.find_elements(\"xpath\",'//div[@Class=\"card-flightstyle__ContainerFooterCard-sc__sc-16r5pdw-24 iMBDQD\"]//a//span')"
   ]
  },
  {
   "cell_type": "code",
   "execution_count": 5,
   "metadata": {},
   "outputs": [],
   "source": [
    "fecha=\"2023-06-12\"\n",
    "Departure=\"CLO\"\n",
    "Arrive=\"BOG\"\n",
    "#n=int(len(Tipo)/2)"
   ]
  },
  {
   "cell_type": "code",
   "execution_count": 6,
   "metadata": {},
   "outputs": [],
   "source": [
    "all_Fechas=list(itertools.repeat(fecha, len(Tipo)))\n",
    "all_Departure=list(itertools.repeat(Departure, len(Tipo)))\n",
    "all_Arrive=list(itertools.repeat(Arrive, len(Tipo)))\n",
    "all_Prices=[price.get_attribute('innerText') for price in Price]\n",
    "all_Hora=[hora.get_attribute('innerText') for hora in Hora]\n",
    "all_Tipo=[T.get_attribute('innerText') for T in Tipo]"
   ]
  },
  {
   "cell_type": "code",
   "execution_count": 7,
   "metadata": {},
   "outputs": [],
   "source": [
    "#Separar las horas de Salida y LLegada\n",
    "Hora_Salida=[all_Hora[x] for x in range(0,len(all_Hora)) if x % 2 == 0]\n",
    "Hora_Llegada=[all_Hora[x] for x in range(0,len(all_Hora)) if x % 2 != 0]\n",
    "#Separar Precios\n",
    "Prices=[all_Prices[x] for x in range(0,len(all_Prices)) if x % 2 == 0]"
   ]
  },
  {
   "cell_type": "code",
   "execution_count": 8,
   "metadata": {},
   "outputs": [
    {
     "data": {
      "text/plain": [
       "20"
      ]
     },
     "execution_count": 8,
     "metadata": {},
     "output_type": "execute_result"
    }
   ],
   "source": [
    "len(Prices)"
   ]
  },
  {
   "cell_type": "code",
   "execution_count": 9,
   "metadata": {},
   "outputs": [],
   "source": [
    "Datos = {\n",
    "    'Fecha':all_Fechas,\n",
    "    'Departure' : all_Departure,\n",
    "    'Arrive': all_Arrive,\n",
    "    'Hora_Salida':Hora_Salida,\n",
    "    'Hora_LLegada':Hora_Llegada,\n",
    "    'Price':Prices,\n",
    "    'Tipo':all_Tipo\n",
    "}\n",
    "df = pd.DataFrame(Datos)"
   ]
  },
  {
   "cell_type": "code",
   "execution_count": 10,
   "metadata": {},
   "outputs": [
    {
     "data": {
      "text/html": [
       "<div>\n",
       "<style scoped>\n",
       "    .dataframe tbody tr th:only-of-type {\n",
       "        vertical-align: middle;\n",
       "    }\n",
       "\n",
       "    .dataframe tbody tr th {\n",
       "        vertical-align: top;\n",
       "    }\n",
       "\n",
       "    .dataframe thead th {\n",
       "        text-align: right;\n",
       "    }\n",
       "</style>\n",
       "<table border=\"1\" class=\"dataframe\">\n",
       "  <thead>\n",
       "    <tr style=\"text-align: right;\">\n",
       "      <th></th>\n",
       "      <th>Fecha</th>\n",
       "      <th>Departure</th>\n",
       "      <th>Arrive</th>\n",
       "      <th>Hora_Salida</th>\n",
       "      <th>Hora_LLegada</th>\n",
       "      <th>Price</th>\n",
       "      <th>Tipo</th>\n",
       "    </tr>\n",
       "  </thead>\n",
       "  <tbody>\n",
       "    <tr>\n",
       "      <th>0</th>\n",
       "      <td>2023-06-12</td>\n",
       "      <td>CLO</td>\n",
       "      <td>BOG</td>\n",
       "      <td>5:26 a. m.</td>\n",
       "      <td>6:25 a. m.</td>\n",
       "      <td>253.040,00</td>\n",
       "      <td>Directo</td>\n",
       "    </tr>\n",
       "    <tr>\n",
       "      <th>1</th>\n",
       "      <td>2023-06-12</td>\n",
       "      <td>CLO</td>\n",
       "      <td>BOG</td>\n",
       "      <td>6:21 a. m.</td>\n",
       "      <td>7:20 a. m.</td>\n",
       "      <td>253.040,00</td>\n",
       "      <td>Directo</td>\n",
       "    </tr>\n",
       "    <tr>\n",
       "      <th>2</th>\n",
       "      <td>2023-06-12</td>\n",
       "      <td>CLO</td>\n",
       "      <td>BOG</td>\n",
       "      <td>6:54 a. m.</td>\n",
       "      <td>7:53 a. m.</td>\n",
       "      <td>253.040,00</td>\n",
       "      <td>Directo</td>\n",
       "    </tr>\n",
       "    <tr>\n",
       "      <th>3</th>\n",
       "      <td>2023-06-12</td>\n",
       "      <td>CLO</td>\n",
       "      <td>BOG</td>\n",
       "      <td>7:30 a. m.</td>\n",
       "      <td>8:29 a. m.</td>\n",
       "      <td>253.040,00</td>\n",
       "      <td>Directo</td>\n",
       "    </tr>\n",
       "    <tr>\n",
       "      <th>4</th>\n",
       "      <td>2023-06-12</td>\n",
       "      <td>CLO</td>\n",
       "      <td>BOG</td>\n",
       "      <td>9:45 a. m.</td>\n",
       "      <td>10:44 a. m.</td>\n",
       "      <td>253.040,00</td>\n",
       "      <td>Directo</td>\n",
       "    </tr>\n",
       "    <tr>\n",
       "      <th>5</th>\n",
       "      <td>2023-06-12</td>\n",
       "      <td>CLO</td>\n",
       "      <td>BOG</td>\n",
       "      <td>10:59 a. m.</td>\n",
       "      <td>11:59 a. m.</td>\n",
       "      <td>269.110,00</td>\n",
       "      <td>Directo</td>\n",
       "    </tr>\n",
       "    <tr>\n",
       "      <th>6</th>\n",
       "      <td>2023-06-12</td>\n",
       "      <td>CLO</td>\n",
       "      <td>BOG</td>\n",
       "      <td>1:06 p. m.</td>\n",
       "      <td>2:06 p. m.</td>\n",
       "      <td>253.040,00</td>\n",
       "      <td>Directo</td>\n",
       "    </tr>\n",
       "    <tr>\n",
       "      <th>7</th>\n",
       "      <td>2023-06-12</td>\n",
       "      <td>CLO</td>\n",
       "      <td>BOG</td>\n",
       "      <td>3:49 p. m.</td>\n",
       "      <td>4:49 p. m.</td>\n",
       "      <td>253.040,00</td>\n",
       "      <td>Directo</td>\n",
       "    </tr>\n",
       "    <tr>\n",
       "      <th>8</th>\n",
       "      <td>2023-06-12</td>\n",
       "      <td>CLO</td>\n",
       "      <td>BOG</td>\n",
       "      <td>4:57 p. m.</td>\n",
       "      <td>5:57 p. m.</td>\n",
       "      <td>269.110,00</td>\n",
       "      <td>Directo</td>\n",
       "    </tr>\n",
       "    <tr>\n",
       "      <th>9</th>\n",
       "      <td>2023-06-12</td>\n",
       "      <td>CLO</td>\n",
       "      <td>BOG</td>\n",
       "      <td>8:30 p. m.</td>\n",
       "      <td>9:30 p. m.</td>\n",
       "      <td>253.040,00</td>\n",
       "      <td>Directo</td>\n",
       "    </tr>\n",
       "    <tr>\n",
       "      <th>10</th>\n",
       "      <td>2023-06-12</td>\n",
       "      <td>CLO</td>\n",
       "      <td>BOG</td>\n",
       "      <td>9:02 p. m.</td>\n",
       "      <td>10:02 p. m.</td>\n",
       "      <td>253.040,00</td>\n",
       "      <td>Directo</td>\n",
       "    </tr>\n",
       "    <tr>\n",
       "      <th>11</th>\n",
       "      <td>2023-06-12</td>\n",
       "      <td>CLO</td>\n",
       "      <td>BOG</td>\n",
       "      <td>9:55 p. m.</td>\n",
       "      <td>10:55 p. m.</td>\n",
       "      <td>253.040,00</td>\n",
       "      <td>Directo</td>\n",
       "    </tr>\n",
       "    <tr>\n",
       "      <th>12</th>\n",
       "      <td>2023-06-12</td>\n",
       "      <td>CLO</td>\n",
       "      <td>BOG</td>\n",
       "      <td>4:24 a. m.</td>\n",
       "      <td>7:31 a. m.</td>\n",
       "      <td>393.340,00</td>\n",
       "      <td>1 parada</td>\n",
       "    </tr>\n",
       "    <tr>\n",
       "      <th>13</th>\n",
       "      <td>2023-06-12</td>\n",
       "      <td>CLO</td>\n",
       "      <td>BOG</td>\n",
       "      <td>4:24 a. m.</td>\n",
       "      <td>8:00 a. m.</td>\n",
       "      <td>393.340,00</td>\n",
       "      <td>1 parada</td>\n",
       "    </tr>\n",
       "    <tr>\n",
       "      <th>14</th>\n",
       "      <td>2023-06-12</td>\n",
       "      <td>CLO</td>\n",
       "      <td>BOG</td>\n",
       "      <td>4:24 a. m.</td>\n",
       "      <td>8:29 a. m.</td>\n",
       "      <td>393.340,00</td>\n",
       "      <td>1 parada</td>\n",
       "    </tr>\n",
       "    <tr>\n",
       "      <th>15</th>\n",
       "      <td>2023-06-12</td>\n",
       "      <td>CLO</td>\n",
       "      <td>BOG</td>\n",
       "      <td>5:42 a. m.</td>\n",
       "      <td>8:00 a. m.</td>\n",
       "      <td>393.340,00</td>\n",
       "      <td>1 parada</td>\n",
       "    </tr>\n",
       "    <tr>\n",
       "      <th>16</th>\n",
       "      <td>2023-06-12</td>\n",
       "      <td>CLO</td>\n",
       "      <td>BOG</td>\n",
       "      <td>5:42 a. m.</td>\n",
       "      <td>8:29 a. m.</td>\n",
       "      <td>393.340,00</td>\n",
       "      <td>1 parada</td>\n",
       "    </tr>\n",
       "    <tr>\n",
       "      <th>17</th>\n",
       "      <td>2023-06-12</td>\n",
       "      <td>CLO</td>\n",
       "      <td>BOG</td>\n",
       "      <td>5:42 a. m.</td>\n",
       "      <td>9:27 a. m.</td>\n",
       "      <td>393.340,00</td>\n",
       "      <td>1 parada</td>\n",
       "    </tr>\n",
       "    <tr>\n",
       "      <th>18</th>\n",
       "      <td>2023-06-12</td>\n",
       "      <td>CLO</td>\n",
       "      <td>BOG</td>\n",
       "      <td>8:29 p. m.</td>\n",
       "      <td>10:56 p. m.</td>\n",
       "      <td>423.690,00</td>\n",
       "      <td>1 parada</td>\n",
       "    </tr>\n",
       "    <tr>\n",
       "      <th>19</th>\n",
       "      <td>2023-06-12</td>\n",
       "      <td>CLO</td>\n",
       "      <td>BOG</td>\n",
       "      <td>8:29 p. m.</td>\n",
       "      <td>11:44 p. m.</td>\n",
       "      <td>393.340,00</td>\n",
       "      <td>1 parada</td>\n",
       "    </tr>\n",
       "  </tbody>\n",
       "</table>\n",
       "</div>"
      ],
      "text/plain": [
       "         Fecha Departure Arrive  Hora_Salida Hora_LLegada       Price  \\\n",
       "0   2023-06-12       CLO    BOG   5:26 a. m.   6:25 a. m.  253.040,00   \n",
       "1   2023-06-12       CLO    BOG   6:21 a. m.   7:20 a. m.  253.040,00   \n",
       "2   2023-06-12       CLO    BOG   6:54 a. m.   7:53 a. m.  253.040,00   \n",
       "3   2023-06-12       CLO    BOG   7:30 a. m.   8:29 a. m.  253.040,00   \n",
       "4   2023-06-12       CLO    BOG   9:45 a. m.  10:44 a. m.  253.040,00   \n",
       "5   2023-06-12       CLO    BOG  10:59 a. m.  11:59 a. m.  269.110,00   \n",
       "6   2023-06-12       CLO    BOG   1:06 p. m.   2:06 p. m.  253.040,00   \n",
       "7   2023-06-12       CLO    BOG   3:49 p. m.   4:49 p. m.  253.040,00   \n",
       "8   2023-06-12       CLO    BOG   4:57 p. m.   5:57 p. m.  269.110,00   \n",
       "9   2023-06-12       CLO    BOG   8:30 p. m.   9:30 p. m.  253.040,00   \n",
       "10  2023-06-12       CLO    BOG   9:02 p. m.  10:02 p. m.  253.040,00   \n",
       "11  2023-06-12       CLO    BOG   9:55 p. m.  10:55 p. m.  253.040,00   \n",
       "12  2023-06-12       CLO    BOG   4:24 a. m.   7:31 a. m.  393.340,00   \n",
       "13  2023-06-12       CLO    BOG   4:24 a. m.   8:00 a. m.  393.340,00   \n",
       "14  2023-06-12       CLO    BOG   4:24 a. m.   8:29 a. m.  393.340,00   \n",
       "15  2023-06-12       CLO    BOG   5:42 a. m.   8:00 a. m.  393.340,00   \n",
       "16  2023-06-12       CLO    BOG   5:42 a. m.   8:29 a. m.  393.340,00   \n",
       "17  2023-06-12       CLO    BOG   5:42 a. m.   9:27 a. m.  393.340,00   \n",
       "18  2023-06-12       CLO    BOG   8:29 p. m.  10:56 p. m.  423.690,00   \n",
       "19  2023-06-12       CLO    BOG   8:29 p. m.  11:44 p. m.  393.340,00   \n",
       "\n",
       "        Tipo  \n",
       "0    Directo  \n",
       "1    Directo  \n",
       "2    Directo  \n",
       "3    Directo  \n",
       "4    Directo  \n",
       "5    Directo  \n",
       "6    Directo  \n",
       "7    Directo  \n",
       "8    Directo  \n",
       "9    Directo  \n",
       "10   Directo  \n",
       "11   Directo  \n",
       "12  1 parada  \n",
       "13  1 parada  \n",
       "14  1 parada  \n",
       "15  1 parada  \n",
       "16  1 parada  \n",
       "17  1 parada  \n",
       "18  1 parada  \n",
       "19  1 parada  "
      ]
     },
     "execution_count": 10,
     "metadata": {},
     "output_type": "execute_result"
    }
   ],
   "source": [
    "df"
   ]
  },
  {
   "cell_type": "code",
   "execution_count": 35,
   "metadata": {},
   "outputs": [],
   "source": [
    "\n",
    "df.to_csv(\"Informes/Scraping_Latam_{}.csv\".format(fecha),index=False)"
   ]
  },
  {
   "attachments": {},
   "cell_type": "markdown",
   "metadata": {},
   "source": [
    "## Prueba Unitaria wingo"
   ]
  },
  {
   "cell_type": "code",
   "execution_count": 8,
   "metadata": {},
   "outputs": [],
   "source": [
    "departure='BOG'\n",
    "Arrive='MDE'\n",
    "fechad='2023-04-19'"
   ]
  },
  {
   "cell_type": "code",
   "execution_count": 9,
   "metadata": {},
   "outputs": [],
   "source": [
    "website=\"https://booking.wingo.com/es/search/MDE/BOG/2023-04-18/1/0/0/1/COP/0/0\".format(departure,Arrive,fechad)"
   ]
  },
  {
   "cell_type": "code",
   "execution_count": 10,
   "metadata": {},
   "outputs": [
    {
     "name": "stderr",
     "output_type": "stream",
     "text": [
      "C:\\Users\\DELL\\AppData\\Local\\Temp\\ipykernel_14884\\3956190885.py:6: DeprecationWarning: executable_path has been deprecated, please pass in a Service object\n",
      "  driver = webdriver.Chrome(\"C:/Scraping/chromedriver.exe\", chrome_options=option)\n",
      "C:\\Users\\DELL\\AppData\\Local\\Temp\\ipykernel_14884\\3956190885.py:6: DeprecationWarning: use options instead of chrome_options\n",
      "  driver = webdriver.Chrome(\"C:/Scraping/chromedriver.exe\", chrome_options=option)\n"
     ]
    }
   ],
   "source": [
    "option = webdriver.ChromeOptions()\n",
    "option.add_argument(\"--incognito\")\n",
    "#option.add_argument(\"--headless\")\n",
    "#we create the driver specifying the origin of chrome browser\n",
    "option.add_experimental_option('excludeSwitches', ['enable-logging'])\n",
    "driver = webdriver.Chrome(\"C:/Scraping/chromedriver.exe\", chrome_options=option)\n",
    "driver.get(website)\n",
    "time.sleep(5)"
   ]
  },
  {
   "cell_type": "code",
   "execution_count": 11,
   "metadata": {},
   "outputs": [],
   "source": [
    "#Extra lo elementos del HTML todos los que coincidan\n",
    "Vuelo=driver.find_elements(\"xpath\",'//span[@Class=\"label-info-card font-gray-medium-letter font-weight-bold radio-custom-label\"]')\n",
    "Hora=driver.find_elements(\"xpath\",'//p[@Class=\"font-gray font-weight-bold\"]')\n",
    "Tipo=driver.find_elements(\"xpath\",'//p[@Class=\"m-0 type-info-flight\"]')\n",
    "Price=driver.find_elements(\"xpath\",'//p[@Class=\"font-yellow font-weight-bold mt-2\"]')\n",
    "Tarifa=driver.find_elements(\"xpath\",'//span[@Class=\"font-weight-bold\"]')"
   ]
  },
  {
   "cell_type": "code",
   "execution_count": 14,
   "metadata": {},
   "outputs": [],
   "source": [
    "#extraemos los datos de sus tags de html y los convertimos ne un lista\n",
    "all_Fechas=list(itertools.repeat(fechad, len(Price)))\n",
    "all_Departure=list(itertools.repeat(departure, len(Price)))\n",
    "all_Arrive=list(itertools.repeat(Arrive, len(Price)))\n",
    "all_Vuelo=[vuelo.get_attribute('innerText') for vuelo in Vuelo]\n",
    "all_Hora=[hora.get_attribute('innerText') for hora in Hora]\n",
    "all_Tipo=[T.get_attribute('innerText') for T in Tipo]\n",
    "all_Prices=[price.get_attribute('innerText') for price in Price]\n",
    "all_Tarifa=[tarifa.get_attribute('innerText') for tarifa in Tarifa]\n",
    "\n",
    "Hora_Salida=[all_Hora[x] for x in range(0,len(all_Hora)) if x % 2 == 0]\n",
    "Hora_Llegada=[all_Hora[x] for x in range(0,len(all_Hora)) if x % 2 != 0]\n",
    "Tipos=[all_Tipo[x].split()[0] for x in range(0,len(all_Tipo)) if x % 2==0]"
   ]
  },
  {
   "cell_type": "code",
   "execution_count": 15,
   "metadata": {},
   "outputs": [
    {
     "name": "stdout",
     "output_type": "stream",
     "text": [
      "        Fecha Departure Arrive      Hora_Salida      Hora_LLegada     Vuelos  \\\n",
      "0  2023-04-19       BOG    MDE  Salida 06:00 AM  Llegada 06:52 AM  P5 - 7271   \n",
      "1  2023-04-19       BOG    MDE  Salida 08:48 AM  Llegada 09:40 AM  P5 - 7269   \n",
      "2  2023-04-19       BOG    MDE  Salida 04:08 PM  Llegada 05:00 PM  P5 - 7291   \n",
      "3  2023-04-19       BOG    MDE  Salida 07:22 PM  Llegada 08:14 PM  P5 - 7277   \n",
      "\n",
      "     Tarifa         Price     Tipo  \n",
      "0  GO Basic  $221,955 COP  Directo  \n",
      "1  GO Basic  $205,295 COP  Directo  \n",
      "2  GO Basic  $188,635 COP  Directo  \n",
      "3  GO Basic  $205,295 COP  Directo  \n"
     ]
    }
   ],
   "source": [
    "Datos_1 = {\n",
    "    'Fecha':all_Fechas,\n",
    "    'Departure' : all_Departure,\n",
    "    'Arrive': all_Arrive,\n",
    "    'Hora_Salida':Hora_Salida,\n",
    "    'Hora_LLegada':Hora_Llegada,\n",
    "    'Vuelos':all_Vuelo,\n",
    "    'Tarifa':all_Tarifa,\n",
    "    'Price':all_Prices,\n",
    "    'Tipo':Tipos\n",
    "}\n",
    "df_1 = pd.DataFrame(Datos_1)\n",
    "print(df_1)"
   ]
  }
 ],
 "metadata": {
  "kernelspec": {
   "display_name": "Python 3",
   "language": "python",
   "name": "python3"
  },
  "language_info": {
   "codemirror_mode": {
    "name": "ipython",
    "version": 3
   },
   "file_extension": ".py",
   "mimetype": "text/x-python",
   "name": "python",
   "nbconvert_exporter": "python",
   "pygments_lexer": "ipython3",
   "version": "3.10.6"
  },
  "orig_nbformat": 4,
  "vscode": {
   "interpreter": {
    "hash": "326eb4f608218a88496fa76fab48aae193dbb76234c4b3ba4f5d87e6ce4c3c5e"
   }
  }
 },
 "nbformat": 4,
 "nbformat_minor": 2
}
