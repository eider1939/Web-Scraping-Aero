{
 "cells": [
  {
   "cell_type": "code",
   "execution_count": 24,
   "metadata": {},
   "outputs": [],
   "source": [
    "import pandas as pd\n",
    "from datetime import datetime"
   ]
  },
  {
   "cell_type": "code",
   "execution_count": 32,
   "metadata": {},
   "outputs": [],
   "source": [
    "uno=pd.read_csv(\"Scraping_Latam_BOG-MDE_2023-04-18.csv\",sep=\",\")\n",
    "dos=pd.read_csv(\"Scraping_Latam_BOG-SMR_2023-04-18.csv\",sep=\",\")\n",
    "tres=pd.read_csv(\"Scraping_Latam_BOG-SMR_2023-04-19.csv\",sep=\",\")\n",
    "cuatro=pd.read_csv(\"Scraping_Latam_BOG-SMR_2023-04-22.csv\",sep=\",\")\n",
    "cinco=pd.read_csv(\"Scraping_Wingo_BOG-MDE_2023-04-18.csv\",sep=\",\")\n",
    "seis=pd.read_csv(\"Scraping_Wingo_BOG-SMR_2023-04-19.csv\",sep=\",\")\n",
    "siete=pd.read_csv(\"Scraping_Wingo_BOG-SMR_2023-04-22.csv\",sep=\",\")\n",
    "ocho=pd.read_csv(\"Scraping_Latam_BOG-CTG_2023-04-25.csv\",sep=\",\")\n",
    "nueve=pd.read_csv(\"Scraping_Wingo_BOG-CTG_2023-04-25.csv\",sep=\",\")"
   ]
  },
  {
   "cell_type": "code",
   "execution_count": 26,
   "metadata": {},
   "outputs": [],
   "source": [
    "uno=uno[['CaptureDate','Aerolinea','Fecha','Departure','Arrive','Hora_Salida','Hora_LLegada','Price','Tipo']]\n",
    "dos=dos[['CaptureDate','Aerolinea','Fecha','Departure','Arrive','Hora_Salida','Hora_LLegada','Price','Tipo']]\n",
    "tres=tres[['CaptureDate','Aerolinea','Fecha','Departure','Arrive','Hora_Salida','Hora_LLegada','Price','Tipo']]\n",
    "cuatro=cuatro[['CaptureDate','Aerolinea','Fecha','Departure','Arrive','Hora_Salida','Hora_LLegada','Price','Tipo']]\n",
    "cinco=cinco[['CaptureDate','Aerolinea','Fecha','Departure','Arrive','Hora_Salida','Hora_LLegada','Price','Tipo']]"
   ]
  },
  {
   "cell_type": "code",
   "execution_count": 27,
   "metadata": {},
   "outputs": [],
   "source": [
    "siete['Aerolinea']='Wingo'\n",
    "siete=siete[['CaptureDate','Aerolinea','Fecha','Departure','Arrive','Hora_Salida','Hora_LLegada','Price','Tipo']]"
   ]
  },
  {
   "cell_type": "code",
   "execution_count": 35,
   "metadata": {},
   "outputs": [],
   "source": [
    "ocho=ocho[['CaptureDate','Aerolinea','Fecha','Departure','Arrive','Hora_Salida','Hora_LLegada','Price','Tipo']]\n",
    "nueve['Aerolinea']='Wingo'\n",
    "nueve=nueve[['CaptureDate','Aerolinea','Fecha','Departure','Arrive','Hora_Salida','Hora_LLegada','Price','Tipo']]"
   ]
  },
  {
   "cell_type": "code",
   "execution_count": 28,
   "metadata": {},
   "outputs": [
    {
     "name": "stdout",
     "output_type": "stream",
     "text": [
      "1156\n",
      "19\n",
      "153\n",
      "33\n"
     ]
    }
   ],
   "source": [
    "print(len(uno))\n",
    "print(len(dos))\n",
    "print(len(tres))\n",
    "print(len(cuatro))"
   ]
  },
  {
   "cell_type": "code",
   "execution_count": 29,
   "metadata": {},
   "outputs": [
    {
     "data": {
      "text/plain": [
       "1175"
      ]
     },
     "execution_count": 29,
     "metadata": {},
     "output_type": "execute_result"
    }
   ],
   "source": [
    "len(uno)+len(dos)"
   ]
  },
  {
   "cell_type": "code",
   "execution_count": 36,
   "metadata": {},
   "outputs": [],
   "source": [
    "Datos_completos=pd.concat([uno,dos,tres,cuatro,cinco,siete,ocho,nueve], ignore_index=True)"
   ]
  },
  {
   "cell_type": "code",
   "execution_count": 37,
   "metadata": {},
   "outputs": [],
   "source": [
    "Datos_completos=Datos_completos[['CaptureDate','Aerolinea','Fecha','Departure','Arrive','Hora_Salida','Hora_LLegada','Price','Tipo']]\n",
    "Datos_completos.to_csv(\"Scraping_Data_total.csv\",index=False)"
   ]
  }
 ],
 "metadata": {
  "kernelspec": {
   "display_name": "Python 3",
   "language": "python",
   "name": "python3"
  },
  "language_info": {
   "codemirror_mode": {
    "name": "ipython",
    "version": 3
   },
   "file_extension": ".py",
   "mimetype": "text/x-python",
   "name": "python",
   "nbconvert_exporter": "python",
   "pygments_lexer": "ipython3",
   "version": "3.10.6"
  },
  "orig_nbformat": 4
 },
 "nbformat": 4,
 "nbformat_minor": 2
}
